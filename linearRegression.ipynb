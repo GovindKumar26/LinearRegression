{
 "cells": [
  {
   "cell_type": "code",
   "execution_count": 8,
   "id": "693f6c77-0f82-4a5c-a0a5-fcd6428a44db",
   "metadata": {},
   "outputs": [],
   "source": [
    "import numpy as np\n",
    "import pandas as pd\n",
    "import matplotlib.pyplot as plt"
   ]
  },
  {
   "cell_type": "code",
   "execution_count": 18,
   "id": "1b82905c-1202-471e-8e7e-211fb615b0ad",
   "metadata": {},
   "outputs": [],
   "source": [
    "dfx = pd.read_csv(\"linearX.csv\")"
   ]
  },
  {
   "cell_type": "code",
   "execution_count": 20,
   "id": "f8c9bc71-b0ce-4670-8681-f46904251814",
   "metadata": {},
   "outputs": [],
   "source": [
    "dfy = pd.read_csv(\"linearY.csv\")"
   ]
  },
  {
   "cell_type": "code",
   "execution_count": 22,
   "id": "64b06871-43ae-481e-9434-a9040fb51cc2",
   "metadata": {},
   "outputs": [
    {
     "name": "stdout",
     "output_type": "stream",
     "text": [
      "     9.1\n",
      "0    8.0\n",
      "1    9.1\n",
      "2    8.4\n",
      "3    6.9\n",
      "4    7.7\n",
      "..   ...\n",
      "94   7.8\n",
      "95  10.2\n",
      "96   6.1\n",
      "97   7.3\n",
      "98   7.3\n",
      "\n",
      "[99 rows x 1 columns]\n"
     ]
    }
   ],
   "source": [
    "print(dfx)"
   ]
  },
  {
   "cell_type": "code",
   "execution_count": 24,
   "id": "1e7d5eed-1404-412f-bc88-ba4154e1e5bc",
   "metadata": {},
   "outputs": [],
   "source": [
    "dfx = dfx.values"
   ]
  },
  {
   "cell_type": "code",
   "execution_count": 26,
   "id": "362ccbb8-26fc-422e-a743-b0688c0adf13",
   "metadata": {},
   "outputs": [
    {
     "name": "stdout",
     "output_type": "stream",
     "text": [
      "[[ 8. ]\n",
      " [ 9.1]\n",
      " [ 8.4]\n",
      " [ 6.9]\n",
      " [ 7.7]\n",
      " [15.6]\n",
      " [ 7.3]\n",
      " [ 7. ]\n",
      " [ 7.2]\n",
      " [10.1]\n",
      " [11.5]\n",
      " [ 7.1]\n",
      " [10. ]\n",
      " [ 8.9]\n",
      " [ 7.9]\n",
      " [ 5.6]\n",
      " [ 6.3]\n",
      " [ 6.7]\n",
      " [10.4]\n",
      " [ 8.5]\n",
      " [ 7.4]\n",
      " [ 6.3]\n",
      " [ 5.4]\n",
      " [ 8.9]\n",
      " [ 9.4]\n",
      " [ 7.5]\n",
      " [11.9]\n",
      " [ 7.8]\n",
      " [ 7.4]\n",
      " [10.8]\n",
      " [10.2]\n",
      " [ 6.2]\n",
      " [ 7.7]\n",
      " [13.7]\n",
      " [ 8. ]\n",
      " [ 6.7]\n",
      " [ 6.7]\n",
      " [ 7. ]\n",
      " [ 8.3]\n",
      " [ 7.4]\n",
      " [ 9.9]\n",
      " [ 6.1]\n",
      " [ 7. ]\n",
      " [ 5.4]\n",
      " [10.7]\n",
      " [ 7.6]\n",
      " [ 8.9]\n",
      " [ 9.2]\n",
      " [ 6.6]\n",
      " [ 7.2]\n",
      " [ 8. ]\n",
      " [ 7.8]\n",
      " [ 7.9]\n",
      " [ 7. ]\n",
      " [ 7. ]\n",
      " [ 7.6]\n",
      " [ 9.1]\n",
      " [ 9. ]\n",
      " [ 7.9]\n",
      " [ 6.6]\n",
      " [11.9]\n",
      " [ 6.5]\n",
      " [ 7.1]\n",
      " [ 8.8]\n",
      " [ 7.5]\n",
      " [ 7.7]\n",
      " [ 6. ]\n",
      " [10.6]\n",
      " [ 6.6]\n",
      " [ 8.2]\n",
      " [ 7.9]\n",
      " [ 7.1]\n",
      " [ 5.6]\n",
      " [ 6.4]\n",
      " [ 7.5]\n",
      " [ 9.8]\n",
      " [ 7. ]\n",
      " [10.5]\n",
      " [ 7.1]\n",
      " [ 6.2]\n",
      " [ 6.5]\n",
      " [ 7.7]\n",
      " [ 7.2]\n",
      " [ 9.3]\n",
      " [ 8.5]\n",
      " [ 7.7]\n",
      " [ 6.8]\n",
      " [ 7.8]\n",
      " [ 8.7]\n",
      " [ 9.6]\n",
      " [ 7.2]\n",
      " [ 9.3]\n",
      " [ 8.1]\n",
      " [ 6.6]\n",
      " [ 7.8]\n",
      " [10.2]\n",
      " [ 6.1]\n",
      " [ 7.3]\n",
      " [ 7.3]]\n"
     ]
    }
   ],
   "source": [
    "print(dfx)"
   ]
  },
  {
   "cell_type": "code",
   "execution_count": 28,
   "id": "00b21fbb-a950-4fa0-bb12-8943b1aa9785",
   "metadata": {},
   "outputs": [],
   "source": [
    "dfy = dfy.values"
   ]
  },
  {
   "cell_type": "code",
   "execution_count": 30,
   "id": "900c36dd-3a9e-4776-89d8-3f6ce67656fc",
   "metadata": {},
   "outputs": [],
   "source": [
    "x = dfx.reshape((-1, ))"
   ]
  },
  {
   "cell_type": "code",
   "execution_count": 34,
   "id": "6e51a7b7-c2d3-4b55-bae0-bb7aec01647b",
   "metadata": {},
   "outputs": [],
   "source": [
    "y = dfy.reshape((-1, ))"
   ]
  },
  {
   "cell_type": "code",
   "execution_count": 36,
   "id": "64cfd848-d8f4-422c-a5f4-64c0cd3e20b4",
   "metadata": {},
   "outputs": [
    {
     "name": "stdout",
     "output_type": "stream",
     "text": [
      "[ 8.   9.1  8.4  6.9  7.7 15.6  7.3  7.   7.2 10.1 11.5  7.1 10.   8.9\n",
      "  7.9  5.6  6.3  6.7 10.4  8.5  7.4  6.3  5.4  8.9  9.4  7.5 11.9  7.8\n",
      "  7.4 10.8 10.2  6.2  7.7 13.7  8.   6.7  6.7  7.   8.3  7.4  9.9  6.1\n",
      "  7.   5.4 10.7  7.6  8.9  9.2  6.6  7.2  8.   7.8  7.9  7.   7.   7.6\n",
      "  9.1  9.   7.9  6.6 11.9  6.5  7.1  8.8  7.5  7.7  6.  10.6  6.6  8.2\n",
      "  7.9  7.1  5.6  6.4  7.5  9.8  7.  10.5  7.1  6.2  6.5  7.7  7.2  9.3\n",
      "  8.5  7.7  6.8  7.8  8.7  9.6  7.2  9.3  8.1  6.6  7.8 10.2  6.1  7.3\n",
      "  7.3]\n"
     ]
    }
   ],
   "source": [
    "print(x)"
   ]
  },
  {
   "cell_type": "code",
   "execution_count": 42,
   "id": "a0a669fe-f0dd-447f-8753-b877ae091713",
   "metadata": {},
   "outputs": [
    {
     "data": {
      "text/plain": [
       "<matplotlib.collections.PathCollection at 0x20e00018830>"
      ]
     },
     "execution_count": 42,
     "metadata": {},
     "output_type": "execute_result"
    },
    {
     "data": {
      "image/png": "[encoded data removed]",
      "text/plain": [
       "<Figure size 640x480 with 1 Axes>"
      ]
     },
     "metadata": {},
     "output_type": "display_data"
    }
   ],
   "source": [
    "x = (x-x.mean())/x.std()\n",
    "plt.scatter(x,y)"
   ]
  },
  {
   "cell_type": "code",
   "execution_count": null,
   "id": "0144399a-a053-4b04-a77b-3bb89ecefb02",
   "metadata": {},
   "outputs": [],
   "source": []
  },
  {
   "cell_type": "code",
   "execution_count": 40,
   "id": "ef79e2b4-d9ba-4727-a5dd-a18d07d485b2",
   "metadata": {},
   "outputs": [],
   "source": [
    "plt.show()"
   ]
  },
  {
   "cell_type": "code",
   "execution_count": 44,
   "id": "0d657d90-885a-4b41-900f-f46b114da525",
   "metadata": {},
   "outputs": [],
   "source": [
    "def hypothesis(x,theta):\n",
    "    return theta[0] + theta[1]*x"
   ]
  },
  {
   "cell_type": "code",
   "execution_count": 46,
   "id": "be2477c2-bb01-4e55-8ddb-7bd68fe65b3c",
   "metadata": {},
   "outputs": [],
   "source": [
    "def error(x, y, theta):\n",
    "    error = 0\n",
    "    for i in range(x.shape[0]):\n",
    "        hx = hypothesis(x[i], theta)\n",
    "        error += (hx-y[i])**2\n",
    "    return error"
   ]
  },
  {
   "cell_type": "code",
   "execution_count": 48,
   "id": "e1abc0ac-8227-442d-9d68-e2973f54cc85",
   "metadata": {},
   "outputs": [],
   "source": [
    "def gradient(x, y, theta):\n",
    "    grad = np.zeros((2, ))\n",
    "    for i in range(x.shape[0]):\n",
    "        hx = hypothesis(x[i], theta)\n",
    "        grad[0] += (hx-y[i])\n",
    "        grad[1] += (hx-y[i])*x[i]\n",
    "    return grad"
   ]
  },
  {
   "cell_type": "code",
   "execution_count": 54,
   "id": "b7876bf1-814a-4c20-9bc8-22c1d9071a96",
   "metadata": {},
   "outputs": [],
   "source": [
    "def gradientDescent(x,y, learning_rate=0.001):\n",
    "    theta = np.array([-2.0, 0.0])\n",
    "    max_iteration = 100\n",
    "    itr = 0\n",
    "    error_list = []\n",
    "    theta_list = []\n",
    "    while(itr<=max_iteration):\n",
    "        grad = gradient(x,y,theta)\n",
    "        err = error(x,y,theta)\n",
    "        error_list.append(err)\n",
    "        theta_list.append(theta)\n",
    "        theta[0] -= learning_rate*grad[0]\n",
    "        theta[1] -= learning_rate*grad[1]\n",
    "        itr+=1\n",
    "    return theta, error_list, theta_list"
   ]
  },
  {
   "cell_type": "code",
   "execution_count": null,
   "id": "9d419c42-d940-4f0f-8b7c-9b766b6dee75",
   "metadata": {},
   "outputs": [],
   "source": []
  },
  {
   "cell_type": "code",
   "execution_count": 56,
   "id": "51681545-186b-4e29-b33c-c9a3db3faed6",
   "metadata": {},
   "outputs": [],
   "source": [
    "final_theta, error_list, theta_list = gradientDescent(x,y)"
   ]
  },
  {
   "cell_type": "code",
   "execution_count": 58,
   "id": "4e54a25b-9eb4-4812-bbdc-80f9d76e7959",
   "metadata": {
    "scrolled": true
   },
   "outputs": [
    {
     "data": {
      "text/plain": [
       "[<matplotlib.lines.Line2D at 0x20e00003a40>]"
      ]
     },
     "execution_count": 58,
     "metadata": {},
     "output_type": "execute_result"
    },
    {
     "data": {
      "image/png": "[encoded data removed]",
      "text/plain": [
       "<Figure size 640x480 with 1 Axes>"
      ]
     },
     "metadata": {},
     "output_type": "display_data"
    }
   ],
   "source": [
    "plt.plot(error_list)"
   ]
  },
  {
   "cell_type": "code",
   "execution_count": 60,
   "id": "d26c2184-929e-46c4-93d3-df16af0aaffe",
   "metadata": {},
   "outputs": [
    {
     "name": "stdout",
     "output_type": "stream",
     "text": [
      "[0.996554  0.0013579]\n"
     ]
    }
   ],
   "source": [
    "print(final_theta)\n",
    "\n"
   ]
  },
  {
   "cell_type": "code",
   "execution_count": null,
   "id": "c25b998b-7d10-43cc-a778-2787c7627c4d",
   "metadata": {},
   "outputs": [],
   "source": []
  },
  {
   "cell_type": "code",
   "execution_count": null,
   "id": "f5b25166-c711-4989-b5a9-9406fbec3941",
   "metadata": {},
   "outputs": [],
   "source": []
  },
  {
   "cell_type": "code",
   "execution_count": null,
   "id": "389dd678-ab6f-4016-a3ff-952ef5b43310",
   "metadata": {},
   "outputs": [],
   "source": []
  },
  {
   "cell_type": "code",
   "execution_count": null,
   "id": "6e35ce45-66fd-4967-a786-d2b797898905",
   "metadata": {},
   "outputs": [],
   "source": []
  },
  {
   "cell_type": "code",
   "execution_count": null,
   "id": "156eb514-1f88-402b-8f97-c0a7f4fb448b",
   "metadata": {},
   "outputs": [],
   "source": []
  },
  {
   "cell_type": "code",
   "execution_count": null,
   "id": "8fe2b29e-82dc-4978-8ddf-bf1f0ee9d0bf",
   "metadata": {},
   "outputs": [],
   "source": []
  },
  {
   "cell_type": "code",
   "execution_count": null,
   "id": "15d22ead-fafc-41e5-bc3e-3113df360826",
   "metadata": {},
   "outputs": [],
   "source": [
    "df"
   ]
  }
 ],
 "metadata": {
  "kernelspec": {
   "display_name": "Python 3 (ipykernel)",
   "language": "python",
   "name": "python3"
  },
  "language_info": {
   "codemirror_mode": {
    "name": "ipython",
    "version": 3
   },
   "file_extension": ".py",
   "mimetype": "text/x-python",
   "name": "python",
   "nbconvert_exporter": "python",
   "pygments_lexer": "ipython3",
   "version": "3.12.7"
  }
 },
 "nbformat": 4,
 "nbformat_minor": 5
}
